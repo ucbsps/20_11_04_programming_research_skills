{
 "cells": [
  {
   "cell_type": "markdown",
   "metadata": {},
   "source": [
    "Here are the functions we will use in this notebook."
   ]
  },
  {
   "cell_type": "code",
   "execution_count": null,
   "metadata": {
    "scrolled": true
   },
   "outputs": [],
   "source": [
    "from numpy import argmax, exp, genfromtxt\n",
    "from scipy.optimize import curve_fit\n",
    "\n",
    "from matplotlib import pyplot as plort"
   ]
  },
  {
   "cell_type": "markdown",
   "metadata": {},
   "source": [
    "First, we need to load the data. For this, we use `genfromtxt`. In order to use the first row of the csv file as column names, set `names=True`. To read csv files, we need to set `delimiter=','`."
   ]
  },
  {
   "cell_type": "code",
   "execution_count": null,
   "metadata": {
    "scrolled": true
   },
   "outputs": [],
   "source": [
    "data = # ADD genfromtxt CALL TO LOAD 'test_signal_2.csv'"
   ]
  },
  {
   "cell_type": "markdown",
   "metadata": {},
   "source": [
    "Let us start by plotting the data to get an idea of what it is. This data is a signal with some noise. You should be able to get an idea of the nature of the signal from the plot (how many peaks does it have? where are the peaks located? about how wide and tall are the peaks?)."
   ]
  },
  {
   "cell_type": "code",
   "execution_count": null,
   "metadata": {
    "scrolled": true
   },
   "outputs": [],
   "source": [
    "# PLOT data['y'] VERSUS data['x']. IT MIGHT BE GOOD TO SET THE FORMAT TO DOTS ('.')\n",
    "plort.show()"
   ]
  },
  {
   "cell_type": "markdown",
   "metadata": {},
   "source": [
    "If we know the form of the data, we can mitigate the noise by fitting a model to it. In this case, we know the data is a Gaussian (because I told you). Therefore, we fit it to a Gaussian. Note: unlike Gaussian used in the filter in the FFT example, we should introduce an amplitude factor, as this Gaussian does not have a peak of 1.\n",
    "\n",
    "The function `curve_fit` from `scipy.optimize` is a pretty great general purpose fitter. You need to provide it with the model function, the coordinates of the points, the values of the points, and an initial guess, `p0`. For this exercise, set `p0=[1, 0, 1]`. This means the fitter will start with an amplitude of $1$, a center of $1$, and a width of $1$. Note that starting with a width of $0$ would be very bad!\n",
    "\n",
    "The outputs of `curve_fit` are the optimization results, in `popt`, and some information on covariance, in `pconv`. `pconv` can be used to estimate the errors of the results."
   ]
  },
  {
   "cell_type": "code",
   "execution_count": null,
   "metadata": {
    "scrolled": true
   },
   "outputs": [],
   "source": [
    "def model(x, amp, x_0, width):\n",
    "    return 0 # REPLACE WITH GAUSSIAN AS A FUNCTION OF X\n",
    "\n",
    "popt, pconv = # ADD CALL TO curve_fit\n",
    "\n",
    "print(popt)\n",
    "# ADD PLOT OF DATA\n",
    "plort.plot(data['x'], model(data['x'], popt[0], popt[1], popt[2]), 'r-')\n",
    "plort.show()"
   ]
  },
  {
   "cell_type": "markdown",
   "metadata": {},
   "source": [
    "For some initial configurations of data, it can be useful to \"seed\" the fitter to help it start closer to the correct value. Consider `test_signal_3`, and try to fit the same Gaussian with the same call to `curve_fit`."
   ]
  },
  {
   "cell_type": "code",
   "execution_count": null,
   "metadata": {
    "scrolled": true
   },
   "outputs": [],
   "source": [
    "data = # LOAD test_signal_3.csv, SIMILARLY TO PREVIOUS LOAD\n",
    "\n",
    "popt, pconv = # ADD SAME CALL TO curve_fit\n",
    "\n",
    "print(popt)\n",
    "# ADD PLOT OF DATA\n",
    "plort.plot(data['x'], model(data['x'], popt[0], popt[1], popt[2]), 'r-')\n",
    "plort.show()"
   ]
  },
  {
   "cell_type": "markdown",
   "metadata": {},
   "source": [
    "When we try to fit it as before, the peak is ignored! Let us start the fitter with a guess of the position (based on the position of the maximum value) and amplitude (based on the maximum value). To do this, change the `p0` variable. The `argmax` function will be very useful for finding the coordinate of the peak."
   ]
  },
  {
   "cell_type": "code",
   "execution_count": null,
   "metadata": {
    "scrolled": true
   },
   "outputs": [],
   "source": [
    "x_0_guess = # MAKE A GUESS FOR THE CENTER, x_0\n",
    "amp_guess = # MAKE A GUESS FOR THE AMPLITUDE, amp\n",
    "\n",
    "popt, pconv = # CALL CURVE FIT WITH NEW VALUE OF p0\n",
    "\n",
    "print(popt)\n",
    "# ADD PLOT OF DATA\n",
    "plort.plot(data['x'], model(data['x'], popt[0], popt[1], popt[2]), 'r-')\n",
    "plort.show()"
   ]
  },
  {
   "cell_type": "markdown",
   "metadata": {},
   "source": [
    "Much better! If we have a series of signals in time (a sequence of images of a laser beam for example), we could seed the fitter with the previous value if we expect only slow changes. This is a very effective way of improving the processing efficiency as well, although it can get stuck should the signal change quickly."
   ]
  }
 ],
 "metadata": {
  "kernelspec": {
   "display_name": "Python 3",
   "language": "python",
   "name": "python3"
  },
  "language_info": {
   "codemirror_mode": {
    "name": "ipython",
    "version": 3
   },
   "file_extension": ".py",
   "mimetype": "text/x-python",
   "name": "python",
   "nbconvert_exporter": "python",
   "pygments_lexer": "ipython3",
   "version": "3.8.6"
  }
 },
 "nbformat": 4,
 "nbformat_minor": 4
}
